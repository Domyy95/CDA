{
 "cells": [
  {
   "cell_type": "code",
   "execution_count": 2,
   "metadata": {},
   "outputs": [
    {
     "data": {
      "text/html": [
       "<div>\n",
       "<style scoped>\n",
       "    .dataframe tbody tr th:only-of-type {\n",
       "        vertical-align: middle;\n",
       "    }\n",
       "\n",
       "    .dataframe tbody tr th {\n",
       "        vertical-align: top;\n",
       "    }\n",
       "\n",
       "    .dataframe thead th {\n",
       "        text-align: right;\n",
       "    }\n",
       "</style>\n",
       "<table border=\"1\" class=\"dataframe\">\n",
       "  <thead>\n",
       "    <tr style=\"text-align: right;\">\n",
       "      <th></th>\n",
       "      <th>Unnamed: 0</th>\n",
       "      <th>Unnamed: 0.1</th>\n",
       "      <th>Instituto</th>\n",
       "      <th>Localidad</th>\n",
       "      <th>Presentados</th>\n",
       "      <th>Aptos</th>\n",
       "      <th>Media Expediente</th>\n",
       "      <th>Media PAU</th>\n",
       "      <th>coordinate</th>\n",
       "      <th>NumBib 2 km</th>\n",
       "      <th>NumBib 5 km</th>\n",
       "      <th>NumBib 8 km</th>\n",
       "      <th>NumBib 10 km</th>\n",
       "      <th>private</th>\n",
       "    </tr>\n",
       "  </thead>\n",
       "  <tbody>\n",
       "    <tr>\n",
       "      <th>0</th>\n",
       "      <td>0</td>\n",
       "      <td>0</td>\n",
       "      <td>CENTRE PRIVAT LA PURÍSIMA</td>\n",
       "      <td>ALZIRA</td>\n",
       "      <td>34</td>\n",
       "      <td>34</td>\n",
       "      <td>7.9</td>\n",
       "      <td>6.6</td>\n",
       "      <td>[39.153307, -0.4422964]</td>\n",
       "      <td>0</td>\n",
       "      <td>3</td>\n",
       "      <td>7</td>\n",
       "      <td>7</td>\n",
       "      <td>True</td>\n",
       "    </tr>\n",
       "    <tr>\n",
       "      <th>1</th>\n",
       "      <td>1</td>\n",
       "      <td>1</td>\n",
       "      <td>IES REI EN JAUME</td>\n",
       "      <td>ALZIRA</td>\n",
       "      <td>59</td>\n",
       "      <td>56</td>\n",
       "      <td>7.6</td>\n",
       "      <td>6.2</td>\n",
       "      <td>[39.146734, -0.4306395]</td>\n",
       "      <td>0</td>\n",
       "      <td>1</td>\n",
       "      <td>5</td>\n",
       "      <td>7</td>\n",
       "      <td>False</td>\n",
       "    </tr>\n",
       "    <tr>\n",
       "      <th>2</th>\n",
       "      <td>2</td>\n",
       "      <td>2</td>\n",
       "      <td>IES JOSÉ MARÍA PARRA</td>\n",
       "      <td>ALZIRA</td>\n",
       "      <td>39</td>\n",
       "      <td>36</td>\n",
       "      <td>7.0</td>\n",
       "      <td>5.2</td>\n",
       "      <td>[39.1569694, -0.4292533]</td>\n",
       "      <td>0</td>\n",
       "      <td>1</td>\n",
       "      <td>5</td>\n",
       "      <td>7</td>\n",
       "      <td>False</td>\n",
       "    </tr>\n",
       "    <tr>\n",
       "      <th>3</th>\n",
       "      <td>3</td>\n",
       "      <td>3</td>\n",
       "      <td>CENTRE PRIVAT NUESTRA SEÑORA DE LA SALUD</td>\n",
       "      <td>ALGEMESÍ</td>\n",
       "      <td>30</td>\n",
       "      <td>30</td>\n",
       "      <td>8.2</td>\n",
       "      <td>7.1</td>\n",
       "      <td>[39.1827727, -0.4375332]</td>\n",
       "      <td>1</td>\n",
       "      <td>3</td>\n",
       "      <td>6</td>\n",
       "      <td>9</td>\n",
       "      <td>True</td>\n",
       "    </tr>\n",
       "    <tr>\n",
       "      <th>4</th>\n",
       "      <td>4</td>\n",
       "      <td>4</td>\n",
       "      <td>IES SANT VICENT FERRER</td>\n",
       "      <td>ALGEMESÍ</td>\n",
       "      <td>30</td>\n",
       "      <td>30</td>\n",
       "      <td>8.0</td>\n",
       "      <td>7.1</td>\n",
       "      <td>[39.1858352, -0.4375209]</td>\n",
       "      <td>1</td>\n",
       "      <td>3</td>\n",
       "      <td>6</td>\n",
       "      <td>9</td>\n",
       "      <td>False</td>\n",
       "    </tr>\n",
       "    <tr>\n",
       "      <th>...</th>\n",
       "      <td>...</td>\n",
       "      <td>...</td>\n",
       "      <td>...</td>\n",
       "      <td>...</td>\n",
       "      <td>...</td>\n",
       "      <td>...</td>\n",
       "      <td>...</td>\n",
       "      <td>...</td>\n",
       "      <td>...</td>\n",
       "      <td>...</td>\n",
       "      <td>...</td>\n",
       "      <td>...</td>\n",
       "      <td>...</td>\n",
       "      <td>...</td>\n",
       "    </tr>\n",
       "    <tr>\n",
       "      <th>456</th>\n",
       "      <td>456</td>\n",
       "      <td>457</td>\n",
       "      <td>ES L'ALLUSSER</td>\n",
       "      <td>MUTXAMEL</td>\n",
       "      <td>28</td>\n",
       "      <td>24</td>\n",
       "      <td>7.3</td>\n",
       "      <td>5.0</td>\n",
       "      <td>[38.4209557, -0.4456107]</td>\n",
       "      <td>1</td>\n",
       "      <td>8</td>\n",
       "      <td>15</td>\n",
       "      <td>44</td>\n",
       "      <td>False</td>\n",
       "    </tr>\n",
       "    <tr>\n",
       "      <th>457</th>\n",
       "      <td>457</td>\n",
       "      <td>458</td>\n",
       "      <td>CENTRO PRIVADO SAN ALBERTO MAGNO</td>\n",
       "      <td>MONFORTE DEL CID</td>\n",
       "      <td>8</td>\n",
       "      <td>8</td>\n",
       "      <td>8.4</td>\n",
       "      <td>5.8</td>\n",
       "      <td>[38.38134, -0.7189599999999999]</td>\n",
       "      <td>1</td>\n",
       "      <td>1</td>\n",
       "      <td>3</td>\n",
       "      <td>3</td>\n",
       "      <td>True</td>\n",
       "    </tr>\n",
       "    <tr>\n",
       "      <th>458</th>\n",
       "      <td>458</td>\n",
       "      <td>459</td>\n",
       "      <td>IES MARÍA BLASCO</td>\n",
       "      <td>SANT VICENT DEL RASPEIG</td>\n",
       "      <td>50</td>\n",
       "      <td>49</td>\n",
       "      <td>7.5</td>\n",
       "      <td>5.5</td>\n",
       "      <td>[38.3905117, -0.5212411]</td>\n",
       "      <td>3</td>\n",
       "      <td>11</td>\n",
       "      <td>42</td>\n",
       "      <td>44</td>\n",
       "      <td>False</td>\n",
       "    </tr>\n",
       "    <tr>\n",
       "      <th>459</th>\n",
       "      <td>459</td>\n",
       "      <td>460</td>\n",
       "      <td>CENTRE PRIVAT EL VALLE</td>\n",
       "      <td>ALACANT</td>\n",
       "      <td>10</td>\n",
       "      <td>10</td>\n",
       "      <td>7.9</td>\n",
       "      <td>6.9</td>\n",
       "      <td>[38.5793, -0.1033]</td>\n",
       "      <td>1</td>\n",
       "      <td>5</td>\n",
       "      <td>9</td>\n",
       "      <td>10</td>\n",
       "      <td>True</td>\n",
       "    </tr>\n",
       "    <tr>\n",
       "      <th>460</th>\n",
       "      <td>460</td>\n",
       "      <td>461</td>\n",
       "      <td>CENTRE PRIVAT ÁNGEL DE LA GUARDA III</td>\n",
       "      <td>ALACANT</td>\n",
       "      <td>38</td>\n",
       "      <td>38</td>\n",
       "      <td>7.8</td>\n",
       "      <td>6.2</td>\n",
       "      <td>[38.3666306, -0.4544057]</td>\n",
       "      <td>1</td>\n",
       "      <td>35</td>\n",
       "      <td>40</td>\n",
       "      <td>46</td>\n",
       "      <td>True</td>\n",
       "    </tr>\n",
       "  </tbody>\n",
       "</table>\n",
       "<p>461 rows × 14 columns</p>\n",
       "</div>"
      ],
      "text/plain": [
       "     Unnamed: 0  Unnamed: 0.1                                 Instituto  \\\n",
       "0             0             0                 CENTRE PRIVAT LA PURÍSIMA   \n",
       "1             1             1                          IES REI EN JAUME   \n",
       "2             2             2                      IES JOSÉ MARÍA PARRA   \n",
       "3             3             3  CENTRE PRIVAT NUESTRA SEÑORA DE LA SALUD   \n",
       "4             4             4                    IES SANT VICENT FERRER   \n",
       "..          ...           ...                                       ...   \n",
       "456         456           457                             ES L'ALLUSSER   \n",
       "457         457           458         CENTRO PRIVADO SAN ALBERTO MAGNO    \n",
       "458         458           459                         IES MARÍA BLASCO    \n",
       "459         459           460                   CENTRE PRIVAT EL VALLE    \n",
       "460         460           461     CENTRE PRIVAT ÁNGEL DE LA GUARDA III    \n",
       "\n",
       "                   Localidad  Presentados  Aptos  Media Expediente  Media PAU  \\\n",
       "0                     ALZIRA           34     34               7.9        6.6   \n",
       "1                     ALZIRA           59     56               7.6        6.2   \n",
       "2                     ALZIRA           39     36               7.0        5.2   \n",
       "3                   ALGEMESÍ           30     30               8.2        7.1   \n",
       "4                   ALGEMESÍ           30     30               8.0        7.1   \n",
       "..                       ...          ...    ...               ...        ...   \n",
       "456                 MUTXAMEL           28     24               7.3        5.0   \n",
       "457         MONFORTE DEL CID            8      8               8.4        5.8   \n",
       "458  SANT VICENT DEL RASPEIG           50     49               7.5        5.5   \n",
       "459                  ALACANT           10     10               7.9        6.9   \n",
       "460                  ALACANT           38     38               7.8        6.2   \n",
       "\n",
       "                          coordinate  NumBib 2 km  NumBib 5 km  NumBib 8 km  \\\n",
       "0            [39.153307, -0.4422964]            0            3            7   \n",
       "1            [39.146734, -0.4306395]            0            1            5   \n",
       "2           [39.1569694, -0.4292533]            0            1            5   \n",
       "3           [39.1827727, -0.4375332]            1            3            6   \n",
       "4           [39.1858352, -0.4375209]            1            3            6   \n",
       "..                               ...          ...          ...          ...   \n",
       "456         [38.4209557, -0.4456107]            1            8           15   \n",
       "457  [38.38134, -0.7189599999999999]            1            1            3   \n",
       "458         [38.3905117, -0.5212411]            3           11           42   \n",
       "459               [38.5793, -0.1033]            1            5            9   \n",
       "460         [38.3666306, -0.4544057]            1           35           40   \n",
       "\n",
       "     NumBib 10 km  private  \n",
       "0               7     True  \n",
       "1               7    False  \n",
       "2               7    False  \n",
       "3               9     True  \n",
       "4               9    False  \n",
       "..            ...      ...  \n",
       "456            44    False  \n",
       "457             3     True  \n",
       "458            44    False  \n",
       "459            10     True  \n",
       "460            46     True  \n",
       "\n",
       "[461 rows x 14 columns]"
      ]
     },
     "execution_count": 2,
     "metadata": {},
     "output_type": "execute_result"
    }
   ],
   "source": [
    "import pandas as pd\n",
    "import numpy as np\n",
    "from tqdm import tqdm\n",
    "\n",
    "data = pd.read_csv('Private_Or_Not/dataSet_2.csv')\n",
    "data"
   ]
  },
  {
   "cell_type": "code",
   "execution_count": 3,
   "metadata": {},
   "outputs": [
    {
     "data": {
      "text/html": [
       "<div>\n",
       "<style scoped>\n",
       "    .dataframe tbody tr th:only-of-type {\n",
       "        vertical-align: middle;\n",
       "    }\n",
       "\n",
       "    .dataframe tbody tr th {\n",
       "        vertical-align: top;\n",
       "    }\n",
       "\n",
       "    .dataframe thead th {\n",
       "        text-align: right;\n",
       "    }\n",
       "</style>\n",
       "<table border=\"1\" class=\"dataframe\">\n",
       "  <thead>\n",
       "    <tr style=\"text-align: right;\">\n",
       "      <th></th>\n",
       "      <th>Media Expediente</th>\n",
       "      <th>Media PAU</th>\n",
       "      <th>private</th>\n",
       "    </tr>\n",
       "  </thead>\n",
       "  <tbody>\n",
       "    <tr>\n",
       "      <th>Media Expediente</th>\n",
       "      <td>1.000000</td>\n",
       "      <td>0.482846</td>\n",
       "      <td>0.141317</td>\n",
       "    </tr>\n",
       "    <tr>\n",
       "      <th>Media PAU</th>\n",
       "      <td>0.482846</td>\n",
       "      <td>1.000000</td>\n",
       "      <td>0.129262</td>\n",
       "    </tr>\n",
       "    <tr>\n",
       "      <th>private</th>\n",
       "      <td>0.141317</td>\n",
       "      <td>0.129262</td>\n",
       "      <td>1.000000</td>\n",
       "    </tr>\n",
       "  </tbody>\n",
       "</table>\n",
       "</div>"
      ],
      "text/plain": [
       "                  Media Expediente  Media PAU   private\n",
       "Media Expediente          1.000000   0.482846  0.141317\n",
       "Media PAU                 0.482846   1.000000  0.129262\n",
       "private                   0.141317   0.129262  1.000000"
      ]
     },
     "execution_count": 3,
     "metadata": {},
     "output_type": "execute_result"
    }
   ],
   "source": [
    "data[['Media Expediente','Media PAU','private']].corr(method ='pearson')"
   ]
  },
  {
   "cell_type": "code",
   "execution_count": 15,
   "metadata": {},
   "outputs": [],
   "source": [
    "private_schools_grades_exp = data[data.private == True]['Media Expediente']\n",
    "private_schools_grades_pau = data[data.private == True]['Media PAU']\n",
    "public_schools_grades_exp = data[data.private == False]['Media Expediente']\n",
    "public_schools_grades_pau = data[data.private == False]['Media PAU']"
   ]
  },
  {
   "cell_type": "code",
   "execution_count": 12,
   "metadata": {},
   "outputs": [
    {
     "data": {
      "text/plain": [
       "Text(0, 0.5, 'No of times')"
      ]
     },
     "execution_count": 12,
     "metadata": {},
     "output_type": "execute_result"
    },
    {
     "data": {
      "image/png": "[encoded data removed]",
      "text/plain": [
       "<Figure size 432x288 with 1 Axes>"
      ]
     },
     "metadata": {
      "needs_background": "light"
     },
     "output_type": "display_data"
    }
   ],
   "source": [
    "import matplotlib.pyplot as plt\n",
    "\n",
    "plt.hist(private_schools_grades_exp, bins=10)\n",
    "plt.ylabel('No of times')"
   ]
  },
  {
   "cell_type": "code",
   "execution_count": 13,
   "metadata": {},
   "outputs": [
    {
     "data": {
      "text/plain": [
       "Text(0, 0.5, 'No of times')"
      ]
     },
     "execution_count": 13,
     "metadata": {},
     "output_type": "execute_result"
    },
    {
     "data": {
      "image/png": "[encoded data removed]",
      "text/plain": [
       "<Figure size 432x288 with 1 Axes>"
      ]
     },
     "metadata": {
      "needs_background": "light"
     },
     "output_type": "display_data"
    }
   ],
   "source": [
    "plt.hist(private_schools_grades_pau, bins=10)\n",
    "plt.ylabel('No of times')"
   ]
  },
  {
   "cell_type": "code",
   "execution_count": 16,
   "metadata": {},
   "outputs": [
    {
     "data": {
      "text/plain": [
       "Text(0, 0.5, 'No of times')"
      ]
     },
     "execution_count": 16,
     "metadata": {},
     "output_type": "execute_result"
    },
    {
     "data": {
      "image/png": "[encoded data removed]",
      "text/plain": [
       "<Figure size 432x288 with 1 Axes>"
      ]
     },
     "metadata": {
      "needs_background": "light"
     },
     "output_type": "display_data"
    }
   ],
   "source": [
    "plt.hist(public_schools_grades_exp, bins=10)\n",
    "plt.ylabel('No of times')"
   ]
  },
  {
   "cell_type": "code",
   "execution_count": 18,
   "metadata": {},
   "outputs": [
    {
     "data": {
      "text/plain": [
       "Text(0, 0.5, 'No of times')"
      ]
     },
     "execution_count": 18,
     "metadata": {},
     "output_type": "execute_result"
    },
    {
     "data": {
      "image/png": "[encoded data removed]",
      "text/plain": [
       "<Figure size 432x288 with 1 Axes>"
      ]
     },
     "metadata": {
      "needs_background": "light"
     },
     "output_type": "display_data"
    }
   ],
   "source": [
    "plt.hist(public_schools_grades_pau, bins=10)\n",
    "plt.ylabel('No of times')"
   ]
  },
  {
   "cell_type": "code",
   "execution_count": 24,
   "metadata": {},
   "outputs": [
    {
     "data": {
      "text/plain": [
       "[<matplotlib.lines.Line2D at 0x22c6519a710>]"
      ]
     },
     "execution_count": 24,
     "metadata": {},
     "output_type": "execute_result"
    },
    {
     "data": {
      "image/png": "[encoded data removed]",
      "text/plain": [
       "<Figure size 432x288 with 1 Axes>"
      ]
     },
     "metadata": {
      "needs_background": "light"
     },
     "output_type": "display_data"
    }
   ],
   "source": [
    "from scipy.stats import norm\n",
    "\n",
    "mu, std = norm.fit(private_schools_grades_exp)\n",
    "plt.hist(private_schools_grades_exp, bins=25, density=True, alpha=0.6, color='g')\n",
    "xmin, xmax = plt.xlim()\n",
    "x = np.linspace(xmin, xmax, 100)\n",
    "p = norm.pdf(x, mu, std)\n",
    "plt.plot(x, p, 'k', linewidth=2)"
   ]
  },
  {
   "cell_type": "code",
   "execution_count": null,
   "metadata": {},
   "outputs": [],
   "source": []
  }
 ],
 "metadata": {
  "kernelspec": {
   "display_name": "Python 3",
   "language": "python",
   "name": "python3"
  },
  "language_info": {
   "codemirror_mode": {
    "name": "ipython",
    "version": 3
   },
   "file_extension": ".py",
   "mimetype": "text/x-python",
   "name": "python",
   "nbconvert_exporter": "python",
   "pygments_lexer": "ipython3",
   "version": "3.7.3"
  }
 },
 "nbformat": 4,
 "nbformat_minor": 2
}
